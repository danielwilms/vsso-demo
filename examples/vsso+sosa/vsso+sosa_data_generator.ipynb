{
 "cells": [
  {
   "cell_type": "markdown",
   "metadata": {},
   "source": [
    "# VSSo + SOSA synthetic data generator\n",
    "This notebook generates example data of a `Vehicle` using the [Vehicle Signal Specification Ontology (VSSo)](https://github.com/w3c/vssohttps://github.com/w3c/vsso).\n",
    "According to the current status of VSSo (as of July 2021), a `Vehicle` has properties that can be static or dynamic.\n",
    "* An `StaticVehicleProperty` (i.e., attribute) is a characteristic of the `Vehicle` whose value does not change often (e.g., `VehicleIdentificationBrand`).\n",
    "* In contrast, a `DynamicVehicleProperty` (i.e., signal) is a characteristic of the `Vehicle` whose value changes frequently, resulting in time-series data (aka., data stream).\n",
    "\n",
    "The synthetic data that this notebook creates is of the type time-series (i.e., sequences of values over time).\n",
    "The resulting data showcases the functionality of the **VSSo core** model together with the [Sensor, Observation, Sample, and Actuator (SOSA) ontology](https://www.w3.org/TR/vocab-ssn/https://www.w3.org/TR/vocab-ssn/][https://www.w3.org/TR/vocab-ssn/https://www.w3.org/TR/vocab-ssn/).\n",
    "\n",
    "> An example of the use of the **VSSo core** model (i.e., not time-series data) is available [here](https://github.com/danielwilms/vsso-demo/tree/main/examples/vsso-core).\n",
    "\n",
    "## Instructions\n",
    "Almost all values are generated randomly within a range that is appropiate to each property.\n",
    "If other values or more properties are desired, simply modify the corresponding line.\n",
    "\n",
    "You can run this notebook using [Jupyter](https://jupyter.org/install).\n",
    "Make sure that you are using a kernel that has already intalled the `environment.yml` file available in the working directory.\n",
    "If you use `conda`, do the following in the working directory:\n",
    "```zsh\n",
    "conda env create --name vsso-demo --file environment.yml\n",
    "conda activate vsso-demo\n",
    "jupyter lab\n",
    "```\n",
    "\n",
    "To create a new `vsso+sosa_data_example.ttl`, just run all cells sequentially.\n",
    "> In a Jupyter noteboook do: `Kernel`>`Restart Kernel and Run All Cells...`"
   ]
  },
  {
   "cell_type": "markdown",
   "metadata": {},
   "source": [
    "### Dependencies"
   ]
  },
  {
   "cell_type": "code",
   "execution_count": 1,
   "metadata": {},
   "outputs": [],
   "source": [
    "import random\n",
    "import string\n",
    "from rdflib import URIRef, Literal, Namespace, RDF, Graph, XSD"
   ]
  },
  {
   "cell_type": "markdown",
   "metadata": {},
   "source": [
    "### RDF graph configuration"
   ]
  },
  {
   "cell_type": "code",
   "execution_count": 2,
   "metadata": {},
   "outputs": [],
   "source": [
    "num_vehicles = 1  # how many vehicles you want to simulate?\n",
    "num_observations = 10  # how many sequential observations you want for the dynamic properties?"
   ]
  },
  {
   "cell_type": "code",
   "execution_count": 3,
   "metadata": {},
   "outputs": [],
   "source": [
    "rdf_graph = Graph()  # create an empty RDF graph\n",
    "\n",
    "vsso = Namespace(\"https://github.com/danielwilms/vsso-demo/\")  # default root URI of the VSSo ontology\n",
    "indv = Namespace(\"https://individualsnamespace.test/vsso-demo/\")  # root URI used for the individuals\n",
    "sosa = Namespace(\"http://www.w3.org/ns/sosa/\")  # SOSA ontology"
   ]
  },
  {
   "cell_type": "markdown",
   "metadata": {},
   "source": [
    "In this example, we create data related to the following battery aspects of an electric vehicle:\n",
    "* Static\n",
    "  * `VehicleIdentificationVIN`\n",
    "  * `BatteryGrossCapacity`\n",
    "* Dynamic\n",
    "  * `\n"
   ]
  },
  {
   "cell_type": "code",
   "execution_count": 4,
   "metadata": {},
   "outputs": [],
   "source": [
    "def add_static_properties(graph, vehicle_identification_number, vehicle_indvividual, special_properties=None):\n",
    "    '''Adds the static properties to the given RDF graph.'''\n",
    "    \n",
    "    static_vehicle_properties = [\n",
    "        {'name':'VehicleIdentificationVIN', 'value':str(vehicle_identification_number)},\n",
    "        {'name':'BatteryGrossCapacity', 'value':str(random.choice(list(range(40,50))))},\n",
    "        # Add here other static vehicle properties, if needed\n",
    "    ]\n",
    "    \n",
    "    for i in static_vehicle_properties:        \n",
    "        name = i['name']\n",
    "        individual_uri = getattr(indv, f'Vehicle-{vehicle_identification_number}-{name}')\n",
    "        class_name = name.split('-')[0]\n",
    "        class_uri = getattr(vsso, f'{class_name}')\n",
    "\n",
    "        graph.add((vehicle_indvividual, vsso.hasStaticVehicleProperty, individual_uri))\n",
    "        graph.add((individual_uri, RDF.type, class_uri))\n",
    "        graph.add((individual_uri, vsso.holdsState, Literal(i['value'])))   "
   ]
  },
  {
   "cell_type": "code",
   "execution_count": 5,
   "metadata": {},
   "outputs": [],
   "source": [
    "def add_dynamic_properties(graph, vehicle_identification_number, vehicle_indvividual, special_properties=None):\n",
    "    '''Adds the dynamic properties to the given RDF graph.'''\n",
    "    \n",
    "    dynamic_vehicle_properties = [\n",
    "        {'name':'StateOfChargeCurrent', 'value':random.randint(50, 100)},\n",
    "        # Add here other dynamic vehicle properties, if needed\n",
    "    ]\n",
    "        \n",
    "    for i in dynamic_vehicle_properties:\n",
    "        current_value = i['value']\n",
    "        name = i['name']\n",
    "        individual_uri = getattr(indv, f'Vehicle-{vehicle_identification_number}-{name}')\n",
    "        class_name = name.split('-')[0]\n",
    "        class_uri = getattr(vsso, f'{class_name}')\n",
    "        \n",
    "        sensor_uri = getattr(indv, f'Vehicle-{vehicle_identification_number}-{name}-Sensor')\n",
    "        \n",
    "        graph.add((vehicle_indvividual, vsso.hasDynamicVehicleProperty, individual_uri))  # Vehicle hasDVP DVP\n",
    "        graph.add((individual_uri, RDF.type, class_uri))  # DVP is a vsso class\n",
    "\n",
    "        graph.add((sensor_uri, RDF.type, sosa.Sensor))\n",
    "\n",
    "        for t in range(num_observations):\n",
    "            current_value = int(current_value * 0.95)  # simulate that the value is decreasing over time\n",
    "\n",
    "            observation_uri = getattr(indv, f'Vehicle-{vehicle_identification_number}-{name}-Sensor-Observation-{t}')\n",
    "            \n",
    "            # Make sure that the holdsState has only the latest value\n",
    "            graph.remove((individual_uri, vsso.holdsState, None))  \n",
    "            graph.add((individual_uri, vsso.holdsState, Literal(current_value, datatype=XSD.int)))  # DVP holdsState Literal\n",
    "            \n",
    "            # Add the current Observation\n",
    "            graph.add((observation_uri, RDF.type, sosa.Observation))\n",
    "            graph.add((sensor_uri, sosa.observes, individual_uri))  # Sensor observes DynamicVehicleProperty\n",
    "            graph.add((sensor_uri, sosa.madeObservation, observation_uri))  # Sensor madeObservation Observation\n",
    "            graph.add((observation_uri, sosa.hasSimpleResult, Literal(current_value, datatype=XSD.int)))  # Observation hasSimpleResult \"value\"^^xsd:float\n",
    "            graph.add((observation_uri, sosa.resultTime, Literal(t, datatype=XSD.dateTime)))  # Observation resultTime \"2017-06-06T12:36:12Z\"^^xsd:dateTime"
   ]
  },
  {
   "cell_type": "code",
   "execution_count": 6,
   "metadata": {},
   "outputs": [],
   "source": [
    "# Loop over all the desired vehicles\n",
    "for vehicle_identification_number in range(num_vehicles):\n",
    "    # Create Vehicle individual using the VIN\n",
    "    vehicle_indvividual = getattr(indv, f'Vehicle-{vehicle_identification_number}')\n",
    "    \n",
    "    rdf_graph.add((vehicle_indvividual, RDF.type, vsso.Vehicle))\n",
    "    \n",
    "    add_static_properties(rdf_graph, vehicle_identification_number, vehicle_indvividual)\n",
    "    add_dynamic_properties(rdf_graph, vehicle_identification_number, vehicle_indvividual)"
   ]
  },
  {
   "cell_type": "code",
   "execution_count": 15,
   "metadata": {},
   "outputs": [],
   "source": [
    "# Bind the prefixes for the abbreviated serialization\n",
    "rdf_graph.bind(\"vsso\", \"https://github.com/danielwilms/vsso-demo/\")\n",
    "rdf_graph.bind(\"indv\", URIRef(\"https://individualsnamespace.test/vsso-demo/\"))\n",
    "rdf_graph.bind(\"sosa\", \"http://www.w3.org/ns/sosa/\")\n",
    "rdf_graph.serialize(\"vsso+sosa_data_example.ttl\", format='ttl')"
   ]
  },
  {
   "cell_type": "code",
   "execution_count": 16,
   "metadata": {},
   "outputs": [
    {
     "name": "stdout",
     "output_type": "stream",
     "text": [
      "@prefix indv: <https://individualsnamespace.test/vsso-demo/> .\n",
      "@prefix sosa: <http://www.w3.org/ns/sosa/> .\n",
      "@prefix vsso: <https://github.com/danielwilms/vsso-demo/> .\n",
      "@prefix xsd: <http://www.w3.org/2001/XMLSchema#> .\n",
      "\n",
      "indv:Vehicle-0 a vsso:Vehicle ;\n",
      "    vsso:hasDynamicVehicleProperty indv:Vehicle-0-StateOfChargeCurrent ;\n",
      "    vsso:hasStaticVehicleProperty indv:Vehicle-0-BatteryGrossCapacity,\n",
      "        indv:Vehicle-0-VehicleIdentificationVIN .\n",
      "\n",
      "indv:Vehicle-0-StateOfChargeCurrent-Sensor a sosa:Sensor ;\n",
      "    sosa:madeObservation indv:Vehicle-0-StateOfChargeCurrent-Sensor-Observation-0,\n",
      "        indv:Vehicle-0-StateOfChargeCurrent-Sensor-Observation-1,\n",
      "        indv:Vehicle-0-StateOfChargeCurrent-Sensor-Observation-2,\n",
      "        indv:Vehicle-0-StateOfChargeCurrent-Sensor-Observation-3,\n",
      "        indv:Vehicle-0-StateOfChargeCurrent-Sensor-Observation-4,\n",
      "        indv:Vehicle-0-StateOfChargeCurrent-Sensor-Observation-5,\n",
      "        indv:Vehicle-0-StateOfChargeCurrent-Sensor-Observation-6,\n",
      "        indv:Vehicle-0-StateOfChargeCurrent-Sensor-Observation-7,\n",
      "        indv:Vehicle-0-StateOfChargeCurrent-Sensor-Observation-8,\n",
      "        indv:Vehicle-0-StateOfChargeCurrent-Sensor-Observation-9 ;\n",
      "    sosa:observes indv:Vehicle-0-StateOfChargeCurrent .\n",
      "\n",
      "indv:Vehicle-0-BatteryGrossCapacity a vsso:BatteryGrossCapacity ;\n",
      "    vsso:holdsState \"44\" .\n",
      "\n",
      "indv:Vehicle-0-StateOfChargeCurrent-Sensor-Observation-0 a sosa:Observation ;\n",
      "    sosa:hasSimpleResult \"64\"^^xsd:int ;\n",
      "    sosa:resultTime \"0\"^^xsd:dateTime .\n",
      "\n",
      "indv:Vehicle-0-StateOfChargeCurrent-Sensor-Observation-1 a sosa:Observation ;\n",
      "    sosa:hasSimpleResult \"60\"^^xsd:int ;\n",
      "    sosa:resultTime \"1\"^^xsd:dateTime .\n",
      "\n",
      "indv:Vehicle-0-StateOfChargeCurrent-Sensor-Observation-2 a sosa:Observation ;\n",
      "    sosa:hasSimpleResult \"57\"^^xsd:int ;\n",
      "    sosa:resultTime \"2\"^^xsd:dateTime .\n",
      "\n",
      "indv:Vehicle-0-StateOfChargeCurrent-Sensor-Observation-3 a sosa:Observation ;\n",
      "    sosa:hasSimpleResult \"54\"^^xsd:int ;\n",
      "    sosa:resultTime \"3\"^^xsd:dateTime .\n",
      "\n",
      "indv:Vehicle-0-StateOfChargeCurrent-Sensor-Observation-4 a sosa:Observation ;\n",
      "    sosa:hasSimpleResult \"51\"^^xsd:int ;\n",
      "    sosa:resultTime \"4\"^^xsd:dateTime .\n",
      "\n",
      "indv:Vehicle-0-StateOfChargeCurrent-Sensor-Observation-5 a sosa:Observation ;\n",
      "    sosa:hasSimpleResult \"48\"^^xsd:int ;\n",
      "    sosa:resultTime \"5\"^^xsd:dateTime .\n",
      "\n",
      "indv:Vehicle-0-StateOfChargeCurrent-Sensor-Observation-6 a sosa:Observation ;\n",
      "    sosa:hasSimpleResult \"45\"^^xsd:int ;\n",
      "    sosa:resultTime \"6\"^^xsd:dateTime .\n",
      "\n",
      "indv:Vehicle-0-StateOfChargeCurrent-Sensor-Observation-7 a sosa:Observation ;\n",
      "    sosa:hasSimpleResult \"42\"^^xsd:int ;\n",
      "    sosa:resultTime \"7\"^^xsd:dateTime .\n",
      "\n",
      "indv:Vehicle-0-StateOfChargeCurrent-Sensor-Observation-8 a sosa:Observation ;\n",
      "    sosa:hasSimpleResult \"39\"^^xsd:int ;\n",
      "    sosa:resultTime \"8\"^^xsd:dateTime .\n",
      "\n",
      "indv:Vehicle-0-StateOfChargeCurrent-Sensor-Observation-9 a sosa:Observation ;\n",
      "    sosa:hasSimpleResult \"37\"^^xsd:int ;\n",
      "    sosa:resultTime \"9\"^^xsd:dateTime .\n",
      "\n",
      "indv:Vehicle-0-VehicleIdentificationVIN a vsso:VehicleIdentificationVIN ;\n",
      "    vsso:holdsState \"0\" .\n",
      "\n",
      "indv:Vehicle-0-StateOfChargeCurrent a vsso:StateOfChargeCurrent ;\n",
      "    vsso:holdsState \"37\"^^xsd:int .\n",
      "\n",
      "\n"
     ]
    }
   ],
   "source": [
    "print(rdf_graph.serialize(format='ttl'))"
   ]
  },
  {
   "cell_type": "markdown",
   "metadata": {},
   "source": [
    "Notice that the relationship `vsso:holdsState` is intended to hold the latest state (i.e., value) of the vehicle property.\n",
    "Therefore, its value will always correspond to the last `sosa:observation`."
   ]
  },
  {
   "cell_type": "code",
   "execution_count": null,
   "metadata": {},
   "outputs": [],
   "source": []
  }
 ],
 "metadata": {
  "kernelspec": {
   "display_name": "Python 3",
   "language": "python",
   "name": "python3"
  },
  "language_info": {
   "codemirror_mode": {
    "name": "ipython",
    "version": 3
   },
   "file_extension": ".py",
   "mimetype": "text/x-python",
   "name": "python",
   "nbconvert_exporter": "python",
   "pygments_lexer": "ipython3",
   "version": "3.9.5"
  }
 },
 "nbformat": 4,
 "nbformat_minor": 4
}
