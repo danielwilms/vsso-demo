{
 "cells": [
  {
   "cell_type": "markdown",
   "metadata": {},
   "source": [
    "# VSSo core synthetic data generator\n",
    "This notebook is used to quickly generate a `Vehicle` with static and dynamic propeties using the Vehicle Signal Specification Ontology (VSSo).\n",
    "In VSSo, an `StaticVehicleProperty` refers to the static information about the vehicle (e.g., `VehicleIdentificationBrand`, `VehicleIdentificationModel`, etc.).\n",
    "Whereas a `DynamcVehicleProperty` refers to the actual signal of interest whose data values are dynamic over time (e.g., `Speed`).\n",
    "In the case of `DynamcVehicleProperty`, VSSo distinguishes two sub-classes: `ObservableVehicleProperty`, where data values are read-only; and `ActuatableVehicleProperty`, whose data values can be read and written.\n",
    "\n",
    "The synthetic data that this notebook creates is NOT a time-series, as it only contains **one value for each property**.\n",
    "This is enough to demonstrate the funtionality of the **VSSo core** model.\n",
    "Other use-cases and demonstrations will be added accordingly to the same `vsso-demo` repository when they become available.\n",
    "\n",
    "## Instructions\n",
    "Almost all values are generated randomly within a range that is appropiate to each property.\n",
    "If other values or more properties are desired, simply modify the corresponding line.\n",
    "\n",
    "You can run this notebook using [Jupyter](https://jupyter.org/install).\n",
    "Make sure that you are using a kernel that has already intalled the `environment.yml` file available in the working directory.\n",
    "If you use `conda`, do the following in the working directory:\n",
    "```zsh\n",
    "% conda env create --name vsso-demo --file environment.yml\n",
    "% conda activate vsso-demo\n",
    "% jupyter lab\n",
    "```\n",
    "\n",
    "Alternativaly, you can use [Binder](https://mybinder.org) to run the notebook online.\n",
    "\n",
    "To create a new `vsso_core_data_example.ttl`, just run all cells sequentially.\n",
    "> In a Jupyter noteboook do: `Kernel`>`Restart Kernel and Run All Cells...`\n",
    "\n",
    "Once the `vsso_core_data_example.ttl` file is created, you can test the queries available in the `vsso_core_query_examples.md` file with a `SPARQL` end point of your preference.\n",
    "> Make sure that you also import the VSSo ontology."
   ]
  },
  {
   "cell_type": "markdown",
   "metadata": {},
   "source": [
    "### Dependencies"
   ]
  },
  {
   "cell_type": "code",
   "execution_count": 1,
   "metadata": {},
   "outputs": [],
   "source": [
    "import random\n",
    "import string\n",
    "from rdflib import URIRef, Literal, Namespace, RDF, Graph, XSD"
   ]
  },
  {
   "cell_type": "markdown",
   "metadata": {},
   "source": [
    "### RDF graph configuration"
   ]
  },
  {
   "cell_type": "code",
   "execution_count": 2,
   "metadata": {},
   "outputs": [],
   "source": [
    "num_vehicles = 1000  # how many vehicles you want to simulate?"
   ]
  },
  {
   "cell_type": "code",
   "execution_count": 3,
   "metadata": {},
   "outputs": [],
   "source": [
    "rdf_graph = Graph()  # create an empty RDF graph\n",
    "\n",
    "vsso = Namespace(\"https://www.w3.org/vsso/\")  # default root URI of the VSSo ontology\n",
    "indv = Namespace(\"https://www.w3.org/vsso/example/\")  # root URI used for the individuals\n",
    "\n",
    "# Bind the prefixes for the abbreviated serialization\n",
    "rdf_graph.bind(\"vsso\", \"https://www.w3.org/vsso/\")\n",
    "rdf_graph.bind(\"indv\", \"https://www.w3.org/vsso/example/\")"
   ]
  },
  {
   "cell_type": "code",
   "execution_count": 4,
   "metadata": {},
   "outputs": [],
   "source": [
    "def add_static_properties(graph, vehicle_identification_number, vehicle_indvividual, special_properties):\n",
    "    '''Adds the static properties to the given RDF graph.'''\n",
    "    \n",
    "    door_count = 2 if (special_properties['seat_row_count'] == 1) else 4\n",
    "    \n",
    "    static_vehicle_properties = [\n",
    "        {'relationship_uri':vsso.hasVehicleIdentificationVIN, 'value':vehicle_identification_number},\n",
    "        {'relationship_uri':vsso.hasVehicleIdentificationBrand, 'value':random.choice(string.ascii_uppercase)},\n",
    "        {'relationship_uri':vsso.hasVehicleIdentificationModel, 'value':random.choice(string.ascii_lowercase)},\n",
    "        {'relationship_uri':vsso.hasVehicleIdentificationYear, 'value':random.choice(list(range(2015,2022)))},\n",
    "        {'relationship_uri':vsso.hasChassisAxleCount, 'value':random.choice([2, 3, 4, 5, 6])},\n",
    "        {'relationship_uri':vsso.hasChassisCurbWeight, 'value':random.randint(1000, 2000)},\n",
    "        {'relationship_uri':vsso.hasChassisGrossWeight, 'value':random.randint(3000, 5000)},\n",
    "        {'relationship_uri':vsso.hasChassisHeight, 'value':random.randint(1500, 3500)},\n",
    "        {'relationship_uri':vsso.hasChassisLength, 'value':random.randint(2000, 4000)},\n",
    "        {'relationship_uri':vsso.hasChassisTowWeight, 'value':random.randint(2000, 4000)},\n",
    "        {'relationship_uri':vsso.hasChassisTrack, 'value':random.randint(1000, 2000)},\n",
    "        {'relationship_uri':vsso.hasChassisWheelbase, 'value':random.randint(2000, 3000)},\n",
    "        {'relationship_uri':vsso.hasChassisWidth, 'value':random.randint(2000, 3000)},\n",
    "        {'relationship_uri':vsso.hasTransmissionType, 'value':random.choice([\"sequential\", \"H\", \"automatic\", \"DSG\", \"CVT\"])},\n",
    "        {'relationship_uri':vsso.hasCombustionEngineConfiguration, 'value':random.choice([\"straight\", \"V\", \"boxer\", \"W\", \"rotary\", \"radial\", \"square\", \"H\", \"U\", \"opposed\", \"X\"])},\n",
    "        {'relationship_uri':vsso.hasCombustionEngineDisplacement, 'value':random.randint(1000, 6000)},\n",
    "        {'relationship_uri':vsso.hasCombustionEngineFuelType, 'value':special_properties['fuel_type']},\n",
    "        {'relationship_uri':vsso.hasFuelSystemFuelType, 'value':special_properties['fuel_type']},\n",
    "        {'relationship_uri':vsso.hasCombustionEngineMaxPower, 'value':random.randint(80, 400)},\n",
    "        {'relationship_uri':vsso.hasCombustionEngineMaxTorque, 'value':random.randint(100, 10000)},\n",
    "        {'relationship_uri':vsso.hasCabinSeatRowCount, 'value':special_properties['seat_row_count']},\n",
    "        {'relationship_uri':vsso.hasVehicleIdentificationvehicleSeatingCapacity, 'value':random.randint(2, 7)},\n",
    "        {'relationship_uri':vsso.hasCabinDoorCount, 'value':door_count},\n",
    "        {'relationship_uri':vsso.hasSteeringWheelPosition, 'value':random.choice([\"left\", \"right\"])}, \n",
    "    ]\n",
    "    \n",
    "    for i in static_vehicle_properties:\n",
    "        graph.add((vehicle_indvividual, i['relationship_uri'] , Literal(i['value'])))"
   ]
  },
  {
   "cell_type": "code",
   "execution_count": 5,
   "metadata": {},
   "outputs": [],
   "source": [
    "def add_dynamic_properties(rdf_graph, vehicle_identification_number, vehicle_indvividual, special_properties):\n",
    "    '''Adds the dynamic properties to the given RDF graph.'''\n",
    "   \n",
    "    # Dynamic properties with one instance\n",
    "    \n",
    "    dynamic_vehicle_properties = [\n",
    "        {'name':'AccelerationLongitudinal', 'value':random.randint(-10, 10)},\n",
    "        {'name':'AmbientAirTemperature', 'value':random.randint(0, 40)},\n",
    "        {'name':'TravelledDistance', 'value':random.randint(0, 1000000)},\n",
    "        {'name':'Speed', 'value':random.randint(0, 200)},\n",
    "        {'name':'TransmissionGear', 'value':random.choice([-1, 1, 2, 3, 4, 5, 6, 7, 8])},\n",
    "        {'name':'SteeringWheelAngle', 'value':random.randint(-540, 540)},\n",
    "    ]\n",
    "\n",
    "    # Dynamic properties with multiple instances\n",
    "    \n",
    "    # Create window instances, equal to the number of doors\n",
    "    for row in range(1, special_properties['seat_row_count']+1):\n",
    "        for side in [\"Left\", \"Right\"]:\n",
    "            instance = f'Row{row}-{side}'\n",
    "            dynamic_vehicle_properties.append({'name':f'WindowisOpen-{instance}', \n",
    "                                               'value':random.choice([True, False]), \n",
    "                                               'instances':[f'Row{row}',f'{side}']}) \n",
    "            \n",
    "    for i in dynamic_vehicle_properties:\n",
    "        name = i['name']\n",
    "        individual_uri = getattr(indv, f'{vehicle_identification_number}-{name}')\n",
    "        class_uri = getattr(vsso, f'{name}')\n",
    "\n",
    "        rdf_graph.add((vehicle_indvividual, vsso.hasDynamicVehicleProperty, individual_uri))\n",
    "        rdf_graph.add((individual_uri, RDF.type, class_uri))\n",
    "        rdf_graph.add((individual_uri, vsso.holdsState, Literal(i['value'])))\n",
    "    \n",
    "    if 'instances' in i:\n",
    "        for instance in i['instances']:\n",
    "            rdf_graph.add((individual_uri, vsso.hasInstance, Literal(instance)))"
   ]
  },
  {
   "cell_type": "code",
   "execution_count": 6,
   "metadata": {},
   "outputs": [],
   "source": [
    "for vehicle_identification_number in range(num_vehicles):\n",
    "    \n",
    "    # Add in this dict properties that require special considerations (i.e., used multiple times)\n",
    "    special_properties = {\n",
    "        'fuel_type': random.choice([\"gasoline\", \"diesel\", \"E85\", \"CNG\"]),  \n",
    "        'seat_row_count': random.randint(1, 3)\n",
    "    }\n",
    "\n",
    "    # Create Vehicle individual using the VIN\n",
    "    vehicle_indvividual = getattr(indv, f'{vehicle_identification_number}-Vehicle')\n",
    "    \n",
    "    add_static_properties(rdf_graph, vehicle_identification_number, vehicle_indvividual, special_properties)\n",
    "    add_dynamic_properties(rdf_graph, vehicle_identification_number, vehicle_indvividual, special_properties)"
   ]
  },
  {
   "cell_type": "code",
   "execution_count": 7,
   "metadata": {},
   "outputs": [],
   "source": [
    "rdf_graph.serialize(\"vsso_core_data_example.ttl\", format='ttl')"
   ]
  }
 ],
 "metadata": {
  "kernelspec": {
   "display_name": "Python 3",
   "language": "python",
   "name": "python3"
  },
  "language_info": {
   "codemirror_mode": {
    "name": "ipython",
    "version": 3
   },
   "file_extension": ".py",
   "mimetype": "text/x-python",
   "name": "python",
   "nbconvert_exporter": "python",
   "pygments_lexer": "ipython3",
   "version": "3.9.1"
  }
 },
 "nbformat": 4,
 "nbformat_minor": 4
}
